{
 "cells": [
  {
   "cell_type": "markdown",
   "id": "9a60b5cb",
   "metadata": {
    "papermill": {
     "duration": 0.010577,
     "end_time": "2022-09-30T18:46:15.436262",
     "exception": false,
     "start_time": "2022-09-30T18:46:15.425685",
     "status": "completed"
    },
    "tags": []
   },
   "source": [
    "**This notebook is an exercise in the [Data Visualization](https://www.kaggle.com/learn/data-visualization) course.  You can reference the tutorial at [this link](https://www.kaggle.com/alexisbcook/scatter-plots).**\n",
    "\n",
    "---\n"
   ]
  },
  {
   "cell_type": "markdown",
   "id": "9bd4d983",
   "metadata": {
    "papermill": {
     "duration": 0.008185,
     "end_time": "2022-09-30T18:46:15.453467",
     "exception": false,
     "start_time": "2022-09-30T18:46:15.445282",
     "status": "completed"
    },
    "tags": []
   },
   "source": [
    "In this exercise, you will use your new knowledge to propose a solution to a real-world scenario.  To succeed, you will need to import data into Python, answer questions using the data, and generate **scatter plots** to understand patterns in the data.\n",
    "\n",
    "## Scenario\n",
    "\n",
    "You work for a major candy producer, and your goal is to write a report that your company can use to guide the design of its next product.  Soon after starting your research, you stumble across this [very interesting dataset](https://fivethirtyeight.com/features/the-ultimate-halloween-candy-power-ranking/) containing results from a fun survey to crowdsource favorite candies.\n",
    "\n",
    "## Setup\n",
    "\n",
    "Run the next cell to import and configure the Python libraries that you need to complete the exercise."
   ]
  },
  {
   "cell_type": "code",
   "execution_count": 1,
   "id": "934fb068",
   "metadata": {
    "execution": {
     "iopub.execute_input": "2022-09-30T18:46:15.476884Z",
     "iopub.status.busy": "2022-09-30T18:46:15.476368Z",
     "iopub.status.idle": "2022-09-30T18:46:16.698170Z",
     "shell.execute_reply": "2022-09-30T18:46:16.696491Z"
    },
    "papermill": {
     "duration": 1.235824,
     "end_time": "2022-09-30T18:46:16.701761",
     "exception": false,
     "start_time": "2022-09-30T18:46:15.465937",
     "status": "completed"
    },
    "tags": []
   },
   "outputs": [
    {
     "name": "stdout",
     "output_type": "stream",
     "text": [
      "Setup Complete\n"
     ]
    }
   ],
   "source": [
    "import pandas as pd\n",
    "pd.plotting.register_matplotlib_converters()\n",
    "import matplotlib.pyplot as plt\n",
    "%matplotlib inline\n",
    "import seaborn as sns\n",
    "print(\"Setup Complete\")"
   ]
  },
  {
   "cell_type": "markdown",
   "id": "c3f0234f",
   "metadata": {
    "papermill": {
     "duration": 0.008289,
     "end_time": "2022-09-30T18:46:16.720005",
     "exception": false,
     "start_time": "2022-09-30T18:46:16.711716",
     "status": "completed"
    },
    "tags": []
   },
   "source": [
    "The questions below will give you feedback on your work. Run the following cell to set up our feedback system."
   ]
  },
  {
   "cell_type": "code",
   "execution_count": 2,
   "id": "ba60dd02",
   "metadata": {
    "execution": {
     "iopub.execute_input": "2022-09-30T18:46:16.739246Z",
     "iopub.status.busy": "2022-09-30T18:46:16.738827Z",
     "iopub.status.idle": "2022-09-30T18:46:16.814421Z",
     "shell.execute_reply": "2022-09-30T18:46:16.812852Z"
    },
    "papermill": {
     "duration": 0.088465,
     "end_time": "2022-09-30T18:46:16.817154",
     "exception": false,
     "start_time": "2022-09-30T18:46:16.728689",
     "status": "completed"
    },
    "tags": []
   },
   "outputs": [
    {
     "name": "stdout",
     "output_type": "stream",
     "text": [
      "Setup Complete\n"
     ]
    }
   ],
   "source": [
    "# Set up code checking\n",
    "import os\n",
    "if not os.path.exists(\"../input/candy.csv\"):\n",
    "    os.symlink(\"../input/data-for-datavis/candy.csv\", \"../input/candy.csv\") \n",
    "from learntools.core import binder\n",
    "binder.bind(globals())\n",
    "from learntools.data_viz_to_coder.ex4 import *\n",
    "print(\"Setup Complete\")"
   ]
  },
  {
   "cell_type": "markdown",
   "id": "9f4d54f5",
   "metadata": {
    "papermill": {
     "duration": 0.008496,
     "end_time": "2022-09-30T18:46:16.836417",
     "exception": false,
     "start_time": "2022-09-30T18:46:16.827921",
     "status": "completed"
    },
    "tags": []
   },
   "source": [
    "## Step 1: Load the Data\n",
    "\n",
    "Read the candy data file into `candy_data`.  Use the `\"id\"` column to label the rows."
   ]
  },
  {
   "cell_type": "code",
   "execution_count": 3,
   "id": "29b5f7bb",
   "metadata": {
    "execution": {
     "iopub.execute_input": "2022-09-30T18:46:16.856556Z",
     "iopub.status.busy": "2022-09-30T18:46:16.855751Z",
     "iopub.status.idle": "2022-09-30T18:46:16.874305Z",
     "shell.execute_reply": "2022-09-30T18:46:16.872986Z"
    },
    "papermill": {
     "duration": 0.031729,
     "end_time": "2022-09-30T18:46:16.876966",
     "exception": false,
     "start_time": "2022-09-30T18:46:16.845237",
     "status": "completed"
    },
    "tags": []
   },
   "outputs": [
    {
     "data": {
      "application/javascript": [
       "parent.postMessage({\"jupyterEvent\": \"custom.exercise_interaction\", \"data\": {\"outcomeType\": 1, \"valueTowardsCompletion\": 0.3333333333333333, \"interactionType\": 1, \"questionType\": 1, \"questionId\": \"1_LoadData\", \"learnToolsVersion\": \"0.3.4\", \"failureMessage\": \"\", \"exceptionClass\": \"\", \"trace\": \"\"}}, \"*\")"
      ],
      "text/plain": [
       "<IPython.core.display.Javascript object>"
      ]
     },
     "metadata": {},
     "output_type": "display_data"
    },
    {
     "data": {
      "text/markdown": [
       "<span style=\"color:#33cc33\">Correct</span>"
      ],
      "text/plain": [
       "Correct"
      ]
     },
     "metadata": {},
     "output_type": "display_data"
    }
   ],
   "source": [
    "# Path of the file to read\n",
    "candy_filepath = \"../input/candy.csv\"\n",
    "\n",
    "# Fill in the line below to read the file into a variable candy_data\n",
    "candy_data =  pd.read_csv(candy_filepath, index_col=\"id\")\n",
    "\n",
    "# Run the line below with no changes to check that you've loaded the data correctly\n",
    "step_1.check()"
   ]
  },
  {
   "cell_type": "code",
   "execution_count": 4,
   "id": "0a1b8297",
   "metadata": {
    "execution": {
     "iopub.execute_input": "2022-09-30T18:46:16.897281Z",
     "iopub.status.busy": "2022-09-30T18:46:16.896771Z",
     "iopub.status.idle": "2022-09-30T18:46:16.901980Z",
     "shell.execute_reply": "2022-09-30T18:46:16.900634Z"
    },
    "papermill": {
     "duration": 0.018294,
     "end_time": "2022-09-30T18:46:16.904420",
     "exception": false,
     "start_time": "2022-09-30T18:46:16.886126",
     "status": "completed"
    },
    "tags": []
   },
   "outputs": [],
   "source": [
    "# Lines below will give you a hint or solution code\n",
    "#step_1.hint()\n",
    "# step_1.solution()"
   ]
  },
  {
   "cell_type": "markdown",
   "id": "8579fae9",
   "metadata": {
    "papermill": {
     "duration": 0.008665,
     "end_time": "2022-09-30T18:46:16.922609",
     "exception": false,
     "start_time": "2022-09-30T18:46:16.913944",
     "status": "completed"
    },
    "tags": []
   },
   "source": [
    "## Step 2: Review the data\n",
    "\n",
    "Use a Python command to print the first five rows of the data."
   ]
  },
  {
   "cell_type": "code",
   "execution_count": 5,
   "id": "14148f57",
   "metadata": {
    "execution": {
     "iopub.execute_input": "2022-09-30T18:46:16.942356Z",
     "iopub.status.busy": "2022-09-30T18:46:16.941892Z",
     "iopub.status.idle": "2022-09-30T18:46:16.968400Z",
     "shell.execute_reply": "2022-09-30T18:46:16.966878Z"
    },
    "papermill": {
     "duration": 0.040708,
     "end_time": "2022-09-30T18:46:16.972341",
     "exception": false,
     "start_time": "2022-09-30T18:46:16.931633",
     "status": "completed"
    },
    "tags": []
   },
   "outputs": [
    {
     "data": {
      "text/html": [
       "<div>\n",
       "<style scoped>\n",
       "    .dataframe tbody tr th:only-of-type {\n",
       "        vertical-align: middle;\n",
       "    }\n",
       "\n",
       "    .dataframe tbody tr th {\n",
       "        vertical-align: top;\n",
       "    }\n",
       "\n",
       "    .dataframe thead th {\n",
       "        text-align: right;\n",
       "    }\n",
       "</style>\n",
       "<table border=\"1\" class=\"dataframe\">\n",
       "  <thead>\n",
       "    <tr style=\"text-align: right;\">\n",
       "      <th></th>\n",
       "      <th>competitorname</th>\n",
       "      <th>chocolate</th>\n",
       "      <th>fruity</th>\n",
       "      <th>caramel</th>\n",
       "      <th>peanutyalmondy</th>\n",
       "      <th>nougat</th>\n",
       "      <th>crispedricewafer</th>\n",
       "      <th>hard</th>\n",
       "      <th>bar</th>\n",
       "      <th>pluribus</th>\n",
       "      <th>sugarpercent</th>\n",
       "      <th>pricepercent</th>\n",
       "      <th>winpercent</th>\n",
       "    </tr>\n",
       "    <tr>\n",
       "      <th>id</th>\n",
       "      <th></th>\n",
       "      <th></th>\n",
       "      <th></th>\n",
       "      <th></th>\n",
       "      <th></th>\n",
       "      <th></th>\n",
       "      <th></th>\n",
       "      <th></th>\n",
       "      <th></th>\n",
       "      <th></th>\n",
       "      <th></th>\n",
       "      <th></th>\n",
       "      <th></th>\n",
       "    </tr>\n",
       "  </thead>\n",
       "  <tbody>\n",
       "    <tr>\n",
       "      <th>0</th>\n",
       "      <td>100 Grand</td>\n",
       "      <td>Yes</td>\n",
       "      <td>No</td>\n",
       "      <td>Yes</td>\n",
       "      <td>No</td>\n",
       "      <td>No</td>\n",
       "      <td>Yes</td>\n",
       "      <td>No</td>\n",
       "      <td>Yes</td>\n",
       "      <td>No</td>\n",
       "      <td>0.732</td>\n",
       "      <td>0.860</td>\n",
       "      <td>66.971725</td>\n",
       "    </tr>\n",
       "    <tr>\n",
       "      <th>1</th>\n",
       "      <td>3 Musketeers</td>\n",
       "      <td>Yes</td>\n",
       "      <td>No</td>\n",
       "      <td>No</td>\n",
       "      <td>No</td>\n",
       "      <td>Yes</td>\n",
       "      <td>No</td>\n",
       "      <td>No</td>\n",
       "      <td>Yes</td>\n",
       "      <td>No</td>\n",
       "      <td>0.604</td>\n",
       "      <td>0.511</td>\n",
       "      <td>67.602936</td>\n",
       "    </tr>\n",
       "    <tr>\n",
       "      <th>2</th>\n",
       "      <td>Air Heads</td>\n",
       "      <td>No</td>\n",
       "      <td>Yes</td>\n",
       "      <td>No</td>\n",
       "      <td>No</td>\n",
       "      <td>No</td>\n",
       "      <td>No</td>\n",
       "      <td>No</td>\n",
       "      <td>No</td>\n",
       "      <td>No</td>\n",
       "      <td>0.906</td>\n",
       "      <td>0.511</td>\n",
       "      <td>52.341465</td>\n",
       "    </tr>\n",
       "    <tr>\n",
       "      <th>3</th>\n",
       "      <td>Almond Joy</td>\n",
       "      <td>Yes</td>\n",
       "      <td>No</td>\n",
       "      <td>No</td>\n",
       "      <td>Yes</td>\n",
       "      <td>No</td>\n",
       "      <td>No</td>\n",
       "      <td>No</td>\n",
       "      <td>Yes</td>\n",
       "      <td>No</td>\n",
       "      <td>0.465</td>\n",
       "      <td>0.767</td>\n",
       "      <td>50.347546</td>\n",
       "    </tr>\n",
       "    <tr>\n",
       "      <th>4</th>\n",
       "      <td>Baby Ruth</td>\n",
       "      <td>Yes</td>\n",
       "      <td>No</td>\n",
       "      <td>Yes</td>\n",
       "      <td>Yes</td>\n",
       "      <td>Yes</td>\n",
       "      <td>No</td>\n",
       "      <td>No</td>\n",
       "      <td>Yes</td>\n",
       "      <td>No</td>\n",
       "      <td>0.604</td>\n",
       "      <td>0.767</td>\n",
       "      <td>56.914547</td>\n",
       "    </tr>\n",
       "  </tbody>\n",
       "</table>\n",
       "</div>"
      ],
      "text/plain": [
       "   competitorname chocolate fruity caramel peanutyalmondy nougat  \\\n",
       "id                                                                 \n",
       "0       100 Grand       Yes     No     Yes             No     No   \n",
       "1    3 Musketeers       Yes     No      No             No    Yes   \n",
       "2       Air Heads        No    Yes      No             No     No   \n",
       "3      Almond Joy       Yes     No      No            Yes     No   \n",
       "4       Baby Ruth       Yes     No     Yes            Yes    Yes   \n",
       "\n",
       "   crispedricewafer hard  bar pluribus  sugarpercent  pricepercent  winpercent  \n",
       "id                                                                              \n",
       "0               Yes   No  Yes       No         0.732         0.860   66.971725  \n",
       "1                No   No  Yes       No         0.604         0.511   67.602936  \n",
       "2                No   No   No       No         0.906         0.511   52.341465  \n",
       "3                No   No  Yes       No         0.465         0.767   50.347546  \n",
       "4                No   No  Yes       No         0.604         0.767   56.914547  "
      ]
     },
     "execution_count": 5,
     "metadata": {},
     "output_type": "execute_result"
    }
   ],
   "source": [
    "# Print the first five rows of the data\n",
    "____ # Your code here\n",
    "candy_data.head(5)"
   ]
  },
  {
   "cell_type": "markdown",
   "id": "4dc29b48",
   "metadata": {
    "papermill": {
     "duration": 0.009588,
     "end_time": "2022-09-30T18:46:16.993031",
     "exception": false,
     "start_time": "2022-09-30T18:46:16.983443",
     "status": "completed"
    },
    "tags": []
   },
   "source": [
    "The dataset contains 83 rows, where each corresponds to a different candy bar.  There are 13 columns:\n",
    "- `'competitorname'` contains the name of the candy bar. \n",
    "- the next **9** columns (from `'chocolate'` to `'pluribus'`) describe the candy.  For instance, rows with chocolate candies have `\"Yes\"` in the `'chocolate'` column (and candies without chocolate have `\"No\"` in the same column).\n",
    "- `'sugarpercent'` provides some indication of the amount of sugar, where higher values signify higher sugar content.\n",
    "- `'pricepercent'` shows the price per unit, relative to the other candies in the dataset.\n",
    "- `'winpercent'` is calculated from the survey results; higher values indicate that the candy was more popular with survey respondents.\n",
    "\n",
    "Use the first five rows of the data to answer the questions below."
   ]
  },
  {
   "cell_type": "code",
   "execution_count": 6,
   "id": "f5941ad3",
   "metadata": {
    "execution": {
     "iopub.execute_input": "2022-09-30T18:46:17.016683Z",
     "iopub.status.busy": "2022-09-30T18:46:17.016171Z",
     "iopub.status.idle": "2022-09-30T18:46:17.026974Z",
     "shell.execute_reply": "2022-09-30T18:46:17.025754Z"
    },
    "papermill": {
     "duration": 0.025528,
     "end_time": "2022-09-30T18:46:17.029345",
     "exception": false,
     "start_time": "2022-09-30T18:46:17.003817",
     "status": "completed"
    },
    "tags": []
   },
   "outputs": [
    {
     "data": {
      "application/javascript": [
       "parent.postMessage({\"jupyterEvent\": \"custom.exercise_interaction\", \"data\": {\"outcomeType\": 1, \"valueTowardsCompletion\": 0.3333333333333333, \"interactionType\": 1, \"questionType\": 1, \"questionId\": \"2_ReviewData\", \"learnToolsVersion\": \"0.3.4\", \"failureMessage\": \"\", \"exceptionClass\": \"\", \"trace\": \"\"}}, \"*\")"
      ],
      "text/plain": [
       "<IPython.core.display.Javascript object>"
      ]
     },
     "metadata": {},
     "output_type": "display_data"
    },
    {
     "data": {
      "text/markdown": [
       "<span style=\"color:#33cc33\">Correct</span>"
      ],
      "text/plain": [
       "Correct"
      ]
     },
     "metadata": {},
     "output_type": "display_data"
    }
   ],
   "source": [
    "# Fill in the line below: Which candy was more popular with survey respondents:\n",
    "# '3 Musketeers' or 'Almond Joy'?  (Please enclose your answer in single quotes.)\n",
    "more_popular = '3 Musketeers'\n",
    "\n",
    "# Fill in the line below: Which candy has higher sugar content: 'Air Heads'\n",
    "# or 'Baby Ruth'? (Please enclose your answer in single quotes.)\n",
    "more_sugar = 'Air Heads'\n",
    "\n",
    "# Check your answers\n",
    "step_2.check()"
   ]
  },
  {
   "cell_type": "code",
   "execution_count": 7,
   "id": "ba1925a4",
   "metadata": {
    "execution": {
     "iopub.execute_input": "2022-09-30T18:46:17.050589Z",
     "iopub.status.busy": "2022-09-30T18:46:17.050163Z",
     "iopub.status.idle": "2022-09-30T18:46:17.054231Z",
     "shell.execute_reply": "2022-09-30T18:46:17.053117Z"
    },
    "papermill": {
     "duration": 0.017791,
     "end_time": "2022-09-30T18:46:17.056668",
     "exception": false,
     "start_time": "2022-09-30T18:46:17.038877",
     "status": "completed"
    },
    "tags": []
   },
   "outputs": [],
   "source": [
    "# Lines below will give you a hint or solution code\n",
    "# step_2.hint()\n",
    "# step_2.solution()"
   ]
  },
  {
   "cell_type": "markdown",
   "id": "c7c1eb66",
   "metadata": {
    "papermill": {
     "duration": 0.009681,
     "end_time": "2022-09-30T18:46:17.075862",
     "exception": false,
     "start_time": "2022-09-30T18:46:17.066181",
     "status": "completed"
    },
    "tags": []
   },
   "source": [
    "## Step 3: The role of sugar\n",
    "\n",
    "Do people tend to prefer candies with higher sugar content?  \n",
    "\n",
    "#### Part A\n",
    "\n",
    "Create a scatter plot that shows the relationship between `'sugarpercent'` (on the horizontal x-axis) and `'winpercent'` (on the vertical y-axis).  _Don't add a regression line just yet -- you'll do that in the next step!_"
   ]
  },
  {
   "cell_type": "code",
   "execution_count": 8,
   "id": "46257a03",
   "metadata": {
    "execution": {
     "iopub.execute_input": "2022-09-30T18:46:17.097452Z",
     "iopub.status.busy": "2022-09-30T18:46:17.096788Z",
     "iopub.status.idle": "2022-09-30T18:46:17.398154Z",
     "shell.execute_reply": "2022-09-30T18:46:17.396775Z"
    },
    "papermill": {
     "duration": 0.314963,
     "end_time": "2022-09-30T18:46:17.400549",
     "exception": false,
     "start_time": "2022-09-30T18:46:17.085586",
     "status": "completed"
    },
    "tags": []
   },
   "outputs": [
    {
     "data": {
      "application/javascript": [
       "parent.postMessage({\"jupyterEvent\": \"custom.exercise_interaction\", \"data\": {\"outcomeType\": 1, \"valueTowardsCompletion\": 0.3333333333333333, \"interactionType\": 1, \"questionType\": 2, \"questionId\": \"3.1_PlotBlueScatter\", \"learnToolsVersion\": \"0.3.4\", \"failureMessage\": \"\", \"exceptionClass\": \"\", \"trace\": \"\"}}, \"*\")"
      ],
      "text/plain": [
       "<IPython.core.display.Javascript object>"
      ]
     },
     "metadata": {},
     "output_type": "display_data"
    },
    {
     "data": {
      "text/markdown": [
       "<span style=\"color:#33cc33\">Correct</span>"
      ],
      "text/plain": [
       "Correct"
      ]
     },
     "metadata": {},
     "output_type": "display_data"
    },
    {
     "data": {
      "image/png": "[encoded data removed]",
      "text/plain": [
       "<Figure size 432x288 with 1 Axes>"
      ]
     },
     "metadata": {
      "needs_background": "light"
     },
     "output_type": "display_data"
    }
   ],
   "source": [
    "# Scatter plot showing the relationship between 'sugarpercent' and 'winpercent'\n",
    "sns.scatterplot(x=candy_data['sugarpercent'], y=candy_data['winpercent'])\n",
    "\n",
    "# Check your answer\n",
    "step_3.a.check()"
   ]
  },
  {
   "cell_type": "code",
   "execution_count": 9,
   "id": "e3e22627",
   "metadata": {
    "execution": {
     "iopub.execute_input": "2022-09-30T18:46:17.422764Z",
     "iopub.status.busy": "2022-09-30T18:46:17.422306Z",
     "iopub.status.idle": "2022-09-30T18:46:17.428012Z",
     "shell.execute_reply": "2022-09-30T18:46:17.426847Z"
    },
    "papermill": {
     "duration": 0.019847,
     "end_time": "2022-09-30T18:46:17.430500",
     "exception": false,
     "start_time": "2022-09-30T18:46:17.410653",
     "status": "completed"
    },
    "tags": []
   },
   "outputs": [],
   "source": [
    "# Lines below will give you a hint or solution code\n",
    "#step_3.a.hint()\n",
    "# step_3.a.solution_plot()"
   ]
  },
  {
   "cell_type": "markdown",
   "id": "31da3a45",
   "metadata": {
    "papermill": {
     "duration": 0.009509,
     "end_time": "2022-09-30T18:46:17.449938",
     "exception": false,
     "start_time": "2022-09-30T18:46:17.440429",
     "status": "completed"
    },
    "tags": []
   },
   "source": [
    "#### Part B\n",
    "\n",
    "Does the scatter plot show a **strong** correlation between the two variables?  If so, are candies with more sugar relatively more or less popular with the survey respondents?"
   ]
  },
  {
   "cell_type": "code",
   "execution_count": 10,
   "id": "851e3c10",
   "metadata": {
    "execution": {
     "iopub.execute_input": "2022-09-30T18:46:17.472769Z",
     "iopub.status.busy": "2022-09-30T18:46:17.472329Z",
     "iopub.status.idle": "2022-09-30T18:46:17.478073Z",
     "shell.execute_reply": "2022-09-30T18:46:17.476724Z"
    },
    "papermill": {
     "duration": 0.020267,
     "end_time": "2022-09-30T18:46:17.480602",
     "exception": false,
     "start_time": "2022-09-30T18:46:17.460335",
     "status": "completed"
    },
    "tags": []
   },
   "outputs": [],
   "source": [
    "#step_3.b.hint()"
   ]
  },
  {
   "cell_type": "code",
   "execution_count": 11,
   "id": "bef5dc8c",
   "metadata": {
    "execution": {
     "iopub.execute_input": "2022-09-30T18:46:17.503073Z",
     "iopub.status.busy": "2022-09-30T18:46:17.502581Z",
     "iopub.status.idle": "2022-09-30T18:46:17.513002Z",
     "shell.execute_reply": "2022-09-30T18:46:17.511487Z"
    },
    "papermill": {
     "duration": 0.025212,
     "end_time": "2022-09-30T18:46:17.515787",
     "exception": false,
     "start_time": "2022-09-30T18:46:17.490575",
     "status": "completed"
    },
    "tags": []
   },
   "outputs": [
    {
     "data": {
      "application/javascript": [
       "parent.postMessage({\"jupyterEvent\": \"custom.exercise_interaction\", \"data\": {\"interactionType\": 3, \"questionType\": 4, \"questionId\": \"3.2_ThinkBlueScatter\", \"learnToolsVersion\": \"0.3.4\", \"valueTowardsCompletion\": 0.0, \"failureMessage\": \"\", \"exceptionClass\": \"\", \"trace\": \"\", \"outcomeType\": 4}}, \"*\")"
      ],
      "text/plain": [
       "<IPython.core.display.Javascript object>"
      ]
     },
     "metadata": {},
     "output_type": "display_data"
    },
    {
     "data": {
      "text/markdown": [
       "<span style=\"color:#33cc99\">Solution:</span> The scatter plot does not show a strong correlation between the two variables. Since there is no clear relationship between the two variables, this tells us that sugar content does not play a strong role in candy popularity."
      ],
      "text/plain": [
       "Solution: The scatter plot does not show a strong correlation between the two variables. Since there is no clear relationship between the two variables, this tells us that sugar content does not play a strong role in candy popularity."
      ]
     },
     "metadata": {},
     "output_type": "display_data"
    }
   ],
   "source": [
    "# Check your answer (Run this code cell to receive credit!)\n",
    "step_3.b.solution()"
   ]
  },
  {
   "cell_type": "markdown",
   "id": "81a89ca0",
   "metadata": {
    "papermill": {
     "duration": 0.010451,
     "end_time": "2022-09-30T18:46:17.537731",
     "exception": false,
     "start_time": "2022-09-30T18:46:17.527280",
     "status": "completed"
    },
    "tags": []
   },
   "source": [
    "## Step 4: Take a closer look\n",
    "\n",
    "#### Part A\n",
    "\n",
    "Create the same scatter plot you created in **Step 3**, but now with a regression line!"
   ]
  },
  {
   "cell_type": "code",
   "execution_count": 12,
   "id": "cff08fcb",
   "metadata": {
    "execution": {
     "iopub.execute_input": "2022-09-30T18:46:17.563060Z",
     "iopub.status.busy": "2022-09-30T18:46:17.562620Z",
     "iopub.status.idle": "2022-09-30T18:46:17.916323Z",
     "shell.execute_reply": "2022-09-30T18:46:17.915165Z"
    },
    "papermill": {
     "duration": 0.369203,
     "end_time": "2022-09-30T18:46:17.918976",
     "exception": false,
     "start_time": "2022-09-30T18:46:17.549773",
     "status": "completed"
    },
    "tags": []
   },
   "outputs": [
    {
     "data": {
      "application/javascript": [
       "parent.postMessage({\"jupyterEvent\": \"custom.exercise_interaction\", \"data\": {\"outcomeType\": 1, \"valueTowardsCompletion\": 0.3333333333333333, \"interactionType\": 1, \"questionType\": 2, \"questionId\": \"4.1_PlotBlueReg\", \"learnToolsVersion\": \"0.3.4\", \"failureMessage\": \"\", \"exceptionClass\": \"\", \"trace\": \"\"}}, \"*\")"
      ],
      "text/plain": [
       "<IPython.core.display.Javascript object>"
      ]
     },
     "metadata": {},
     "output_type": "display_data"
    },
    {
     "data": {
      "text/markdown": [
       "<span style=\"color:#33cc33\">Correct</span>"
      ],
      "text/plain": [
       "Correct"
      ]
     },
     "metadata": {},
     "output_type": "display_data"
    },
    {
     "data": {
      "image/png": "[encoded data removed]",
      "text/plain": [
       "<Figure size 432x288 with 1 Axes>"
      ]
     },
     "metadata": {
      "needs_background": "light"
     },
     "output_type": "display_data"
    }
   ],
   "source": [
    "# Scatter plot w/ regression line showing the relationship between 'sugarpercent' and 'winpercent'\n",
    "sns.regplot(x=candy_data['sugarpercent'], y=candy_data['winpercent'])\n",
    "\n",
    "# Check your answer\n",
    "step_4.a.check()"
   ]
  },
  {
   "cell_type": "code",
   "execution_count": 13,
   "id": "a11a9656",
   "metadata": {
    "execution": {
     "iopub.execute_input": "2022-09-30T18:46:17.944361Z",
     "iopub.status.busy": "2022-09-30T18:46:17.943890Z",
     "iopub.status.idle": "2022-09-30T18:46:17.949645Z",
     "shell.execute_reply": "2022-09-30T18:46:17.948158Z"
    },
    "papermill": {
     "duration": 0.02153,
     "end_time": "2022-09-30T18:46:17.952254",
     "exception": false,
     "start_time": "2022-09-30T18:46:17.930724",
     "status": "completed"
    },
    "tags": []
   },
   "outputs": [],
   "source": [
    "# Lines below will give you a hint or solution code\n",
    "#step_4.a.hint()\n",
    "# step_4.a.solution_plot()"
   ]
  },
  {
   "cell_type": "markdown",
   "id": "f59d8d3e",
   "metadata": {
    "papermill": {
     "duration": 0.010964,
     "end_time": "2022-09-30T18:46:17.974731",
     "exception": false,
     "start_time": "2022-09-30T18:46:17.963767",
     "status": "completed"
    },
    "tags": []
   },
   "source": [
    "#### Part B\n",
    "\n",
    "According to the plot above, is there a **slight** correlation between `'winpercent'` and `'sugarpercent'`?  What does this tell you about the candy that people tend to prefer?"
   ]
  },
  {
   "cell_type": "code",
   "execution_count": 14,
   "id": "4b8c13b2",
   "metadata": {
    "execution": {
     "iopub.execute_input": "2022-09-30T18:46:17.999526Z",
     "iopub.status.busy": "2022-09-30T18:46:17.998821Z",
     "iopub.status.idle": "2022-09-30T18:46:18.002877Z",
     "shell.execute_reply": "2022-09-30T18:46:18.001992Z"
    },
    "papermill": {
     "duration": 0.019234,
     "end_time": "2022-09-30T18:46:18.005277",
     "exception": false,
     "start_time": "2022-09-30T18:46:17.986043",
     "status": "completed"
    },
    "tags": []
   },
   "outputs": [],
   "source": [
    "#step_4.b.hint()"
   ]
  },
  {
   "cell_type": "code",
   "execution_count": 15,
   "id": "6bf702c9",
   "metadata": {
    "execution": {
     "iopub.execute_input": "2022-09-30T18:46:18.032927Z",
     "iopub.status.busy": "2022-09-30T18:46:18.032414Z",
     "iopub.status.idle": "2022-09-30T18:46:18.041060Z",
     "shell.execute_reply": "2022-09-30T18:46:18.040300Z"
    },
    "papermill": {
     "duration": 0.026202,
     "end_time": "2022-09-30T18:46:18.043070",
     "exception": false,
     "start_time": "2022-09-30T18:46:18.016868",
     "status": "completed"
    },
    "tags": []
   },
   "outputs": [
    {
     "data": {
      "application/javascript": [
       "parent.postMessage({\"jupyterEvent\": \"custom.exercise_interaction\", \"data\": {\"interactionType\": 3, \"questionType\": 4, \"questionId\": \"4.2_ThinkBlueReg\", \"learnToolsVersion\": \"0.3.4\", \"valueTowardsCompletion\": 0.0, \"failureMessage\": \"\", \"exceptionClass\": \"\", \"trace\": \"\", \"outcomeType\": 4}}, \"*\")"
      ],
      "text/plain": [
       "<IPython.core.display.Javascript object>"
      ]
     },
     "metadata": {},
     "output_type": "display_data"
    },
    {
     "data": {
      "text/markdown": [
       "<span style=\"color:#33cc99\">Solution:</span> Since the regression line has a slightly positive slope, this tells us that there is a slightly positive correlation between `'winpercent'` and `'sugarpercent'`. Thus, people have a slight preference for candies containing relatively more sugar."
      ],
      "text/plain": [
       "Solution: Since the regression line has a slightly positive slope, this tells us that there is a slightly positive correlation between `'winpercent'` and `'sugarpercent'`. Thus, people have a slight preference for candies containing relatively more sugar."
      ]
     },
     "metadata": {},
     "output_type": "display_data"
    }
   ],
   "source": [
    "# Check your answer (Run this code cell to receive credit!)\n",
    "step_4.b.solution()"
   ]
  },
  {
   "cell_type": "markdown",
   "id": "b6b00535",
   "metadata": {
    "papermill": {
     "duration": 0.010889,
     "end_time": "2022-09-30T18:46:18.065331",
     "exception": false,
     "start_time": "2022-09-30T18:46:18.054442",
     "status": "completed"
    },
    "tags": []
   },
   "source": [
    "## Step 5: Chocolate!\n",
    "\n",
    "In the code cell below, create a scatter plot to show the relationship between `'pricepercent'` (on the horizontal x-axis) and `'winpercent'` (on the vertical y-axis). Use the `'chocolate'` column to color-code the points.  _Don't add any regression lines just yet -- you'll do that in the next step!_"
   ]
  },
  {
   "cell_type": "code",
   "execution_count": 16,
   "id": "56c1ce91",
   "metadata": {
    "execution": {
     "iopub.execute_input": "2022-09-30T18:46:18.091589Z",
     "iopub.status.busy": "2022-09-30T18:46:18.090765Z",
     "iopub.status.idle": "2022-09-30T18:46:18.424951Z",
     "shell.execute_reply": "2022-09-30T18:46:18.423680Z"
    },
    "papermill": {
     "duration": 0.350085,
     "end_time": "2022-09-30T18:46:18.427483",
     "exception": false,
     "start_time": "2022-09-30T18:46:18.077398",
     "status": "completed"
    },
    "tags": []
   },
   "outputs": [
    {
     "data": {
      "application/javascript": [
       "parent.postMessage({\"jupyterEvent\": \"custom.exercise_interaction\", \"data\": {\"outcomeType\": 1, \"valueTowardsCompletion\": 0.3333333333333333, \"interactionType\": 1, \"questionType\": 2, \"questionId\": \"5_ColorScatter\", \"learnToolsVersion\": \"0.3.4\", \"failureMessage\": \"\", \"exceptionClass\": \"\", \"trace\": \"\"}}, \"*\")"
      ],
      "text/plain": [
       "<IPython.core.display.Javascript object>"
      ]
     },
     "metadata": {},
     "output_type": "display_data"
    },
    {
     "data": {
      "text/markdown": [
       "<span style=\"color:#33cc33\">Correct</span>"
      ],
      "text/plain": [
       "Correct"
      ]
     },
     "metadata": {},
     "output_type": "display_data"
    },
    {
     "data": {
      "image/png": "[encoded data removed]",
      "text/plain": [
       "<Figure size 432x288 with 1 Axes>"
      ]
     },
     "metadata": {
      "needs_background": "light"
     },
     "output_type": "display_data"
    }
   ],
   "source": [
    "# Scatter plot showing the relationship between 'pricepercent', 'winpercent', and 'chocolate'\n",
    "sns.scatterplot(x=candy_data['pricepercent'], y=candy_data['winpercent'], hue=candy_data['chocolate'])\n",
    "# Check your answer\n",
    "step_5.check()"
   ]
  },
  {
   "cell_type": "code",
   "execution_count": 17,
   "id": "ef7d6097",
   "metadata": {
    "execution": {
     "iopub.execute_input": "2022-09-30T18:46:18.454221Z",
     "iopub.status.busy": "2022-09-30T18:46:18.453725Z",
     "iopub.status.idle": "2022-09-30T18:46:18.458411Z",
     "shell.execute_reply": "2022-09-30T18:46:18.457287Z"
    },
    "papermill": {
     "duration": 0.020994,
     "end_time": "2022-09-30T18:46:18.460929",
     "exception": false,
     "start_time": "2022-09-30T18:46:18.439935",
     "status": "completed"
    },
    "tags": []
   },
   "outputs": [],
   "source": [
    "# Lines below will give you a hint or solution code\n",
    "#step_5.hint()\n",
    "# step_5.solution_plot()"
   ]
  },
  {
   "cell_type": "markdown",
   "id": "d68ae528",
   "metadata": {
    "papermill": {
     "duration": 0.011247,
     "end_time": "2022-09-30T18:46:18.484048",
     "exception": false,
     "start_time": "2022-09-30T18:46:18.472801",
     "status": "completed"
    },
    "tags": []
   },
   "source": [
    "Can you see any interesting patterns in the scatter plot?  We'll investigate this plot further  by adding regression lines in the next step!\n",
    "\n",
    "## Step 6: Investigate chocolate\n",
    "\n",
    "#### Part A\n",
    "\n",
    "Create the same scatter plot you created in **Step 5**, but now with two regression lines, corresponding to (1) chocolate candies and (2) candies without chocolate."
   ]
  },
  {
   "cell_type": "code",
   "execution_count": 18,
   "id": "351ad7df",
   "metadata": {
    "execution": {
     "iopub.execute_input": "2022-09-30T18:46:18.509536Z",
     "iopub.status.busy": "2022-09-30T18:46:18.509043Z",
     "iopub.status.idle": "2022-09-30T18:46:19.202618Z",
     "shell.execute_reply": "2022-09-30T18:46:19.201078Z"
    },
    "papermill": {
     "duration": 0.710104,
     "end_time": "2022-09-30T18:46:19.205798",
     "exception": false,
     "start_time": "2022-09-30T18:46:18.495694",
     "status": "completed"
    },
    "tags": []
   },
   "outputs": [
    {
     "data": {
      "application/javascript": [
       "parent.postMessage({\"jupyterEvent\": \"custom.exercise_interaction\", \"data\": {\"outcomeType\": 1, \"valueTowardsCompletion\": 0.3333333333333333, \"interactionType\": 1, \"questionType\": 2, \"questionId\": \"6.1_PlotColorReg\", \"learnToolsVersion\": \"0.3.4\", \"failureMessage\": \"\", \"exceptionClass\": \"\", \"trace\": \"\"}}, \"*\")"
      ],
      "text/plain": [
       "<IPython.core.display.Javascript object>"
      ]
     },
     "metadata": {},
     "output_type": "display_data"
    },
    {
     "data": {
      "text/markdown": [
       "<span style=\"color:#33cc33\">Correct</span>"
      ],
      "text/plain": [
       "Correct"
      ]
     },
     "metadata": {},
     "output_type": "display_data"
    },
    {
     "data": {
      "image/png": "[encoded data removed]",
      "text/plain": [
       "<Figure size 416.375x360 with 1 Axes>"
      ]
     },
     "metadata": {
      "needs_background": "light"
     },
     "output_type": "display_data"
    }
   ],
   "source": [
    "# Color-coded scatter plot w/ regression lines\n",
    "____ # Your code here\n",
    "sns.lmplot(x=\"pricepercent\", y=\"winpercent\", hue=\"chocolate\", data=candy_data)\n",
    "# Check your answer\n",
    "step_6.a.check()"
   ]
  },
  {
   "cell_type": "code",
   "execution_count": 19,
   "id": "24b9a2a4",
   "metadata": {
    "execution": {
     "iopub.execute_input": "2022-09-30T18:46:19.233714Z",
     "iopub.status.busy": "2022-09-30T18:46:19.233304Z",
     "iopub.status.idle": "2022-09-30T18:46:19.239086Z",
     "shell.execute_reply": "2022-09-30T18:46:19.237867Z"
    },
    "papermill": {
     "duration": 0.023126,
     "end_time": "2022-09-30T18:46:19.241986",
     "exception": false,
     "start_time": "2022-09-30T18:46:19.218860",
     "status": "completed"
    },
    "tags": []
   },
   "outputs": [],
   "source": [
    "# Lines below will give you a hint or solution code\n",
    "#step_6.a.hint()\n",
    "# step_6.a.solution_plot()"
   ]
  },
  {
   "cell_type": "markdown",
   "id": "0e372481",
   "metadata": {
    "papermill": {
     "duration": 0.013493,
     "end_time": "2022-09-30T18:46:19.268969",
     "exception": false,
     "start_time": "2022-09-30T18:46:19.255476",
     "status": "completed"
    },
    "tags": []
   },
   "source": [
    "#### Part B\n",
    "\n",
    "Using the regression lines, what conclusions can you draw about the effects of chocolate and price on candy popularity?"
   ]
  },
  {
   "cell_type": "code",
   "execution_count": 20,
   "id": "dda996a9",
   "metadata": {
    "execution": {
     "iopub.execute_input": "2022-09-30T18:46:19.298514Z",
     "iopub.status.busy": "2022-09-30T18:46:19.298098Z",
     "iopub.status.idle": "2022-09-30T18:46:19.303729Z",
     "shell.execute_reply": "2022-09-30T18:46:19.302489Z"
    },
    "papermill": {
     "duration": 0.023331,
     "end_time": "2022-09-30T18:46:19.306328",
     "exception": false,
     "start_time": "2022-09-30T18:46:19.282997",
     "status": "completed"
    },
    "tags": []
   },
   "outputs": [],
   "source": [
    "#step_6.b.hint()"
   ]
  },
  {
   "cell_type": "code",
   "execution_count": 21,
   "id": "72974b62",
   "metadata": {
    "execution": {
     "iopub.execute_input": "2022-09-30T18:46:19.335049Z",
     "iopub.status.busy": "2022-09-30T18:46:19.334646Z",
     "iopub.status.idle": "2022-09-30T18:46:19.343767Z",
     "shell.execute_reply": "2022-09-30T18:46:19.342872Z"
    },
    "papermill": {
     "duration": 0.02642,
     "end_time": "2022-09-30T18:46:19.346398",
     "exception": false,
     "start_time": "2022-09-30T18:46:19.319978",
     "status": "completed"
    },
    "tags": []
   },
   "outputs": [
    {
     "data": {
      "application/javascript": [
       "parent.postMessage({\"jupyterEvent\": \"custom.exercise_interaction\", \"data\": {\"interactionType\": 3, \"questionType\": 4, \"questionId\": \"6.2_ThinkColorReg\", \"learnToolsVersion\": \"0.3.4\", \"valueTowardsCompletion\": 0.0, \"failureMessage\": \"\", \"exceptionClass\": \"\", \"trace\": \"\", \"outcomeType\": 4}}, \"*\")"
      ],
      "text/plain": [
       "<IPython.core.display.Javascript object>"
      ]
     },
     "metadata": {},
     "output_type": "display_data"
    },
    {
     "data": {
      "text/markdown": [
       "<span style=\"color:#33cc99\">Solution:</span> We'll begin with the regression line for chocolate candies. Since this line has a slightly positive slope, we can say that more expensive chocolate candies tend to be more popular (than relatively cheaper chocolate candies).  Likewise, since the regression line for candies without chocolate has a negative slope, we can say that if candies don't contain chocolate, they tend to be more popular when they are cheaper.  One important note, however, is that the dataset is quite small -- so we shouldn't invest too much trust in these patterns!  To inspire more confidence in the results, we should add more candies to the dataset."
      ],
      "text/plain": [
       "Solution: We'll begin with the regression line for chocolate candies. Since this line has a slightly positive slope, we can say that more expensive chocolate candies tend to be more popular (than relatively cheaper chocolate candies).  Likewise, since the regression line for candies without chocolate has a negative slope, we can say that if candies don't contain chocolate, they tend to be more popular when they are cheaper.  One important note, however, is that the dataset is quite small -- so we shouldn't invest too much trust in these patterns!  To inspire more confidence in the results, we should add more candies to the dataset."
      ]
     },
     "metadata": {},
     "output_type": "display_data"
    }
   ],
   "source": [
    "# Check your answer (Run this code cell to receive credit!)\n",
    "step_6.b.solution()"
   ]
  },
  {
   "cell_type": "markdown",
   "id": "6d5feb98",
   "metadata": {
    "papermill": {
     "duration": 0.012696,
     "end_time": "2022-09-30T18:46:19.373080",
     "exception": false,
     "start_time": "2022-09-30T18:46:19.360384",
     "status": "completed"
    },
    "tags": []
   },
   "source": [
    "## Step 7: Everybody loves chocolate.\n",
    "\n",
    "#### Part A\n",
    "\n",
    "Create a categorical scatter plot to highlight the relationship between `'chocolate'` and `'winpercent'`.  Put `'chocolate'` on the (horizontal) x-axis, and `'winpercent'` on the (vertical) y-axis."
   ]
  },
  {
   "cell_type": "code",
   "execution_count": 22,
   "id": "91c26c1c",
   "metadata": {
    "execution": {
     "iopub.execute_input": "2022-09-30T18:46:19.403232Z",
     "iopub.status.busy": "2022-09-30T18:46:19.402796Z",
     "iopub.status.idle": "2022-09-30T18:46:19.638241Z",
     "shell.execute_reply": "2022-09-30T18:46:19.636903Z"
    },
    "papermill": {
     "duration": 0.253389,
     "end_time": "2022-09-30T18:46:19.640862",
     "exception": false,
     "start_time": "2022-09-30T18:46:19.387473",
     "status": "completed"
    },
    "tags": []
   },
   "outputs": [
    {
     "data": {
      "application/javascript": [
       "parent.postMessage({\"jupyterEvent\": \"custom.exercise_interaction\", \"data\": {\"outcomeType\": 1, \"valueTowardsCompletion\": 0.3333333333333333, \"interactionType\": 1, \"questionType\": 2, \"questionId\": \"7.1_PlotSwarm\", \"learnToolsVersion\": \"0.3.4\", \"failureMessage\": \"\", \"exceptionClass\": \"\", \"trace\": \"\"}}, \"*\")"
      ],
      "text/plain": [
       "<IPython.core.display.Javascript object>"
      ]
     },
     "metadata": {},
     "output_type": "display_data"
    },
    {
     "data": {
      "text/markdown": [
       "<span style=\"color:#33cc33\">Correct</span>"
      ],
      "text/plain": [
       "Correct"
      ]
     },
     "metadata": {},
     "output_type": "display_data"
    },
    {
     "data": {
      "image/png": "[encoded data removed]",
      "text/plain": [
       "<Figure size 432x288 with 1 Axes>"
      ]
     },
     "metadata": {
      "needs_background": "light"
     },
     "output_type": "display_data"
    }
   ],
   "source": [
    "# Scatter plot showing the relationship between 'chocolate' and 'winpercent'\n",
    "____ # Your code here\n",
    "sns.swarmplot(x=candy_data['chocolate'], y=candy_data['winpercent'])\n",
    "\n",
    "# Check your answer\n",
    "step_7.a.check()"
   ]
  },
  {
   "cell_type": "code",
   "execution_count": 23,
   "id": "8e000886",
   "metadata": {
    "execution": {
     "iopub.execute_input": "2022-09-30T18:46:19.670555Z",
     "iopub.status.busy": "2022-09-30T18:46:19.670148Z",
     "iopub.status.idle": "2022-09-30T18:46:19.675740Z",
     "shell.execute_reply": "2022-09-30T18:46:19.674300Z"
    },
    "papermill": {
     "duration": 0.024436,
     "end_time": "2022-09-30T18:46:19.678990",
     "exception": false,
     "start_time": "2022-09-30T18:46:19.654554",
     "status": "completed"
    },
    "tags": []
   },
   "outputs": [],
   "source": [
    "# Lines below will give you a hint or solution code\n",
    "#step_7.a.hint()\n",
    "# step_7.a.solution_plot()"
   ]
  },
  {
   "cell_type": "markdown",
   "id": "dad78e80",
   "metadata": {
    "papermill": {
     "duration": 0.013211,
     "end_time": "2022-09-30T18:46:19.706646",
     "exception": false,
     "start_time": "2022-09-30T18:46:19.693435",
     "status": "completed"
    },
    "tags": []
   },
   "source": [
    "#### Part B\n",
    "\n",
    "You decide to dedicate a section of your report to the fact that chocolate candies tend to be more popular than candies without chocolate.  Which plot is more appropriate to tell this story: the plot from **Step 6**, or the plot from **Step 7**?"
   ]
  },
  {
   "cell_type": "code",
   "execution_count": 24,
   "id": "518236ab",
   "metadata": {
    "execution": {
     "iopub.execute_input": "2022-09-30T18:46:19.738464Z",
     "iopub.status.busy": "2022-09-30T18:46:19.737510Z",
     "iopub.status.idle": "2022-09-30T18:46:19.742865Z",
     "shell.execute_reply": "2022-09-30T18:46:19.741960Z"
    },
    "papermill": {
     "duration": 0.024331,
     "end_time": "2022-09-30T18:46:19.745745",
     "exception": false,
     "start_time": "2022-09-30T18:46:19.721414",
     "status": "completed"
    },
    "tags": []
   },
   "outputs": [],
   "source": [
    "#step_7.b.hint()"
   ]
  },
  {
   "cell_type": "code",
   "execution_count": 25,
   "id": "a5486d4f",
   "metadata": {
    "execution": {
     "iopub.execute_input": "2022-09-30T18:46:19.777237Z",
     "iopub.status.busy": "2022-09-30T18:46:19.776325Z",
     "iopub.status.idle": "2022-09-30T18:46:19.786935Z",
     "shell.execute_reply": "2022-09-30T18:46:19.785774Z"
    },
    "papermill": {
     "duration": 0.029355,
     "end_time": "2022-09-30T18:46:19.789329",
     "exception": false,
     "start_time": "2022-09-30T18:46:19.759974",
     "status": "completed"
    },
    "tags": []
   },
   "outputs": [
    {
     "data": {
      "application/javascript": [
       "parent.postMessage({\"jupyterEvent\": \"custom.exercise_interaction\", \"data\": {\"interactionType\": 3, \"questionType\": 4, \"questionId\": \"7.2_ThinkSwarm\", \"learnToolsVersion\": \"0.3.4\", \"valueTowardsCompletion\": 0.0, \"failureMessage\": \"\", \"exceptionClass\": \"\", \"trace\": \"\", \"outcomeType\": 4}}, \"*\")"
      ],
      "text/plain": [
       "<IPython.core.display.Javascript object>"
      ]
     },
     "metadata": {},
     "output_type": "display_data"
    },
    {
     "data": {
      "text/markdown": [
       "<span style=\"color:#33cc99\">Solution:</span> In this case, the categorical scatter plot from **Step 7** is the more appropriate plot. While both plots tell the desired story, the plot from **Step 6** conveys far more information that could distract from the main point."
      ],
      "text/plain": [
       "Solution: In this case, the categorical scatter plot from **Step 7** is the more appropriate plot. While both plots tell the desired story, the plot from **Step 6** conveys far more information that could distract from the main point."
      ]
     },
     "metadata": {},
     "output_type": "display_data"
    }
   ],
   "source": [
    "# Check your answer (Run this code cell to receive credit!)\n",
    "step_7.b.solution()"
   ]
  },
  {
   "cell_type": "markdown",
   "id": "38b1150f",
   "metadata": {
    "papermill": {
     "duration": 0.014102,
     "end_time": "2022-09-30T18:46:19.818018",
     "exception": false,
     "start_time": "2022-09-30T18:46:19.803916",
     "status": "completed"
    },
    "tags": []
   },
   "source": [
    "## Keep going\n",
    "\n",
    "Explore **[histograms and density plots](https://www.kaggle.com/alexisbcook/distributions)**."
   ]
  },
  {
   "cell_type": "markdown",
   "id": "3e80e3ae",
   "metadata": {
    "papermill": {
     "duration": 0.013424,
     "end_time": "2022-09-30T18:46:19.845843",
     "exception": false,
     "start_time": "2022-09-30T18:46:19.832419",
     "status": "completed"
    },
    "tags": []
   },
   "source": [
    "---\n",
    "\n",
    "\n",
    "\n",
    "\n",
    "*Have questions or comments? Visit the [course discussion forum](https://www.kaggle.com/learn/data-visualization/discussion) to chat with other learners.*"
   ]
  }
 ],
 "metadata": {
  "kernelspec": {
   "display_name": "Python 3",
   "language": "python",
   "name": "python3"
  },
  "language_info": {
   "codemirror_mode": {
    "name": "ipython",
    "version": 3
   },
   "file_extension": ".py",
   "mimetype": "text/x-python",
   "name": "python",
   "nbconvert_exporter": "python",
   "pygments_lexer": "ipython3",
   "version": "3.7.12"
  },
  "papermill": {
   "default_parameters": {},
   "duration": 14.70274,
   "end_time": "2022-09-30T18:46:20.684256",
   "environment_variables": {},
   "exception": null,
   "input_path": "__notebook__.ipynb",
   "output_path": "__notebook__.ipynb",
   "parameters": {},
   "start_time": "2022-09-30T18:46:05.981516",
   "version": "2.3.4"
  }
 },
 "nbformat": 4,
 "nbformat_minor": 5
}
